{
  "nbformat": 4,
  "nbformat_minor": 0,
  "metadata": {
    "colab": {
      "provenance": [],
      "authorship_tag": "ABX9TyOsnNxU1FfABJoWnWHHWwLE",
      "include_colab_link": true
    },
    "kernelspec": {
      "name": "python3",
      "display_name": "Python 3"
    },
    "language_info": {
      "name": "python"
    }
  },
  "cells": [
    {
      "cell_type": "markdown",
      "metadata": {
        "id": "view-in-github",
        "colab_type": "text"
      },
      "source": [
        "<a href=\"https://colab.research.google.com/github/lexxai/goit_python_ds_hw_11/blob/main/goit_python_ds_hw_11.ipynb\" target=\"_parent\"><img src=\"https://colab.research.google.com/assets/colab-badge.svg\" alt=\"Open In Colab\"/></a>"
      ]
    },
    {
      "cell_type": "markdown",
      "source": [
        "# Модуль 11. Рекурентні нейронні мережі. Tensorflow. Keras.\n",
        "\n",
        "*З циклу [домашніх завдань Python Data Science](https://github.com/lexxai/goit_python_data_sciense_homework).*\n",
        "\n",
        "# Домашнє завдання"
      ],
      "metadata": {
        "id": "VLmF0q63J-pu"
      }
    },
    {
      "cell_type": "code",
      "execution_count": 11,
      "metadata": {
        "id": "7RbM4EGEJ5nD"
      },
      "outputs": [],
      "source": [
        "from pathlib import Path\n",
        "import pickle\n",
        "\n",
        "import matplotlib.pyplot as plt\n",
        "import tensorflow as tf\n",
        "from keras.datasets import imdb\n",
        "from keras.utils import pad_sequences\n",
        "from keras import layers, models, callbacks\n",
        "from keras import optimizers, regularizers\n",
        "from keras import losses, metrics\n",
        "from keras.utils import plot_model\n",
        "from keras.utils import serialize_keras_object, to_categorical\n",
        "\n",
        "import numpy as np\n",
        "\n",
        "from matplotlib.ticker import MultipleLocator, AutoLocator, FixedLocator\n",
        "from sklearn.metrics import confusion_matrix, classification_report, ConfusionMatrixDisplay, roc_auc_score\n"
      ]
    },
    {
      "cell_type": "markdown",
      "source": [
        "# LOAD DATASET"
      ],
      "metadata": {
        "id": "jrzvQtIoKzr4"
      }
    },
    {
      "cell_type": "code",
      "source": [
        "max_features = 10000  # кількість слів, що розглядаються як особливості\n",
        "maxlen = 500  # обмеження кількості слів в тексті\n",
        "batch_size = 32"
      ],
      "metadata": {
        "id": "IdAOjUGWKZOz"
      },
      "execution_count": 12,
      "outputs": []
    },
    {
      "cell_type": "code",
      "source": [
        "(input_train, y_train), (input_test, y_test) = imdb.load_data(num_words=max_features)\n",
        "# Завантаження тренувальних та тестових даних зі вказанням обмеження на кількість слів\n",
        "words_index=imdb.get_word_index()\n",
        "words = { v: k for k, v in words_index.items()}"
      ],
      "metadata": {
        "id": "u0lsB1lVK427"
      },
      "execution_count": 13,
      "outputs": []
    },
    {
      "cell_type": "code",
      "source": [
        "x_train = pad_sequences(input_train, maxlen=maxlen)\n",
        "x_test = pad_sequences(input_test, maxlen=maxlen)\n",
        "# Застосування заздалегідь обраної максимальної довжини до послідовних даних тренувального та тестового наборів\n"
      ],
      "metadata": {
        "id": "mlwclSrsLbKU"
      },
      "execution_count": 14,
      "outputs": []
    },
    {
      "cell_type": "code",
      "source": [
        "print(x_train.shape)\n",
        "print(x_train[0])\n",
        "n = 0\n",
        "for i in x_train[0]:\n",
        "  if i < 3:\n",
        "    continue\n",
        "  print(i, words.get(i-3))\n",
        "  n += 1\n",
        "  if n > 10:\n",
        "    break"
      ],
      "metadata": {
        "colab": {
          "base_uri": "https://localhost:8080/"
        },
        "id": "mVI2zLpmLeE-",
        "outputId": "7939ba63-ec47-4342-f3dc-6e9bc6a818e1"
      },
      "execution_count": 15,
      "outputs": [
        {
          "output_type": "stream",
          "name": "stdout",
          "text": [
            "(25000, 500)\n",
            "[   0    0    0    0    0    0    0    0    0    0    0    0    0    0\n",
            "    0    0    0    0    0    0    0    0    0    0    0    0    0    0\n",
            "    0    0    0    0    0    0    0    0    0    0    0    0    0    0\n",
            "    0    0    0    0    0    0    0    0    0    0    0    0    0    0\n",
            "    0    0    0    0    0    0    0    0    0    0    0    0    0    0\n",
            "    0    0    0    0    0    0    0    0    0    0    0    0    0    0\n",
            "    0    0    0    0    0    0    0    0    0    0    0    0    0    0\n",
            "    0    0    0    0    0    0    0    0    0    0    0    0    0    0\n",
            "    0    0    0    0    0    0    0    0    0    0    0    0    0    0\n",
            "    0    0    0    0    0    0    0    0    0    0    0    0    0    0\n",
            "    0    0    0    0    0    0    0    0    0    0    0    0    0    0\n",
            "    0    0    0    0    0    0    0    0    0    0    0    0    0    0\n",
            "    0    0    0    0    0    0    0    0    0    0    0    0    0    0\n",
            "    0    0    0    0    0    0    0    0    0    0    0    0    0    0\n",
            "    0    0    0    0    0    0    0    0    0    0    0    0    0    0\n",
            "    0    0    0    0    0    0    0    0    0    0    0    0    0    0\n",
            "    0    0    0    0    0    0    0    0    0    0    0    0    0    0\n",
            "    0    0    0    0    0    0    0    0    0    0    0    0    0    0\n",
            "    0    0    0    0    0    0    0    0    0    0    0    0    0    0\n",
            "    0    0    0    0    0    0    0    0    0    0    0    0    0    0\n",
            "    0    0    1   14   22   16   43  530  973 1622 1385   65  458 4468\n",
            "   66 3941    4  173   36  256    5   25  100   43  838  112   50  670\n",
            "    2    9   35  480  284    5  150    4  172  112  167    2  336  385\n",
            "   39    4  172 4536 1111   17  546   38   13  447    4  192   50   16\n",
            "    6  147 2025   19   14   22    4 1920 4613  469    4   22   71   87\n",
            "   12   16   43  530   38   76   15   13 1247    4   22   17  515   17\n",
            "   12   16  626   18    2    5   62  386   12    8  316    8  106    5\n",
            "    4 2223 5244   16  480   66 3785   33    4  130   12   16   38  619\n",
            "    5   25  124   51   36  135   48   25 1415   33    6   22   12  215\n",
            "   28   77   52    5   14  407   16   82    2    8    4  107  117 5952\n",
            "   15  256    4    2    7 3766    5  723   36   71   43  530  476   26\n",
            "  400  317   46    7    4    2 1029   13  104   88    4  381   15  297\n",
            "   98   32 2071   56   26  141    6  194 7486   18    4  226   22   21\n",
            "  134  476   26  480    5  144   30 5535   18   51   36   28  224   92\n",
            "   25  104    4  226   65   16   38 1334   88   12   16  283    5   16\n",
            " 4472  113  103   32   15   16 5345   19  178   32]\n",
            "14 this\n",
            "22 film\n",
            "16 was\n",
            "43 just\n",
            "530 brilliant\n",
            "973 casting\n",
            "1622 location\n",
            "1385 scenery\n",
            "65 story\n",
            "458 direction\n",
            "4468 everyone's\n"
          ]
        }
      ]
    },
    {
      "cell_type": "code",
      "source": [
        "batch_size = 512 # перераховувати ваги мережі ми будемо не на всій вибірці, а на її випадковій підмножині з batch_size елементів\n",
        "learning_rate = 0.005 # швидкість навчання нейронної мережі\n",
        "ignore_saved_model = True\n",
        "upload_saved_model = True\n",
        "every_model_zip = True\n",
        "use_test_for_validate = False\n",
        "model_zip_url = \"\"\n",
        "model_zip = Path(\"goit_python_ds_hw_11_models.zip\")\n",
        "gdrive = Path(\"/content/drive/\")\n",
        "model_zip_gdrive_dir = gdrive.joinpath(\"MyDrive/Colab Notebooks/GoIT/datasets/\")\n",
        "model_zip_gdrive = model_zip_gdrive_dir.joinpath(model_zip)\n",
        "tensorboard_path = \"tensorboard\"\n",
        "tensorboard_logs = \"logs\""
      ],
      "metadata": {
        "id": "0-VuZY-fNdto"
      },
      "execution_count": 68,
      "outputs": []
    },
    {
      "cell_type": "code",
      "source": [
        "from logging import exception\n",
        "# LOAD, SAVE MODLELS AND HISTORY\n",
        "\n",
        "def load_models_gdrive(model_zip):\n",
        "  print(model_zip)\n",
        "  if model_zip.exists():\n",
        "      print(\"Uzipping...\")\n",
        "      !unzip -q -o \"$model_zip\"\n",
        "\n",
        "def load_models_url(zip_url, model_zip):\n",
        " if not model_zip.exists():\n",
        "    !wget $zip_url -O $model_zip\n",
        "    if model_zip.exists():\n",
        "      !unzip -o $model_zip\n",
        "\n",
        "def save_all():\n",
        "  for name in models_dnn:\n",
        "    print(f\"Save {name}\")\n",
        "    savemodel(name, models_dnn[name], models_his[name])\n",
        "  zip_files()\n",
        "\n",
        "def zip_files(name=None):\n",
        "  print(f\"Creating {model_zip}\")\n",
        "  model_zip_gdrive_p = model_zip_gdrive\n",
        "  tlog = tensorboard_logs\n",
        "  qmode = \"-q\"\n",
        "  if name:\n",
        "    tlog = f\"{tensorboard_logs}/{tensorboard_path}_{name}\"\n",
        "    model_zip_p = model_zip.with_stem(model_zip.stem + \"_progress\")\n",
        "    model_zip_gdrive_p = model_zip_gdrive_dir.joinpath(model_zip_p)\n",
        "    qmode = \"\"\n",
        "  else:\n",
        "    name = \"*\"\n",
        "  !zip $qmode -r $model_zip {name}_model.keras {name}_*.pkl {name}_*.epoch $tlog\n",
        "  if upload_saved_model and gdrive.exists() and model_zip.exists():\n",
        "    print(\"Copy to GDrive:\",model_zip_gdrive_p)\n",
        "    # !mv \"$model_zip_gdrive\" \"{model_zip_gdrive}.backup\"\n",
        "    !cp \"$model_zip\" \"$model_zip_gdrive_p\"\n",
        "\n",
        "def savemodel(name, model, history):\n",
        "  filepath=Path(f\"{name}_model.keras\")\n",
        "  model.save(filepath)\n",
        "  remove_eval(name)\n",
        "  remove_pred(name)\n",
        "  filepath=Path(f\"{name}_history.pkl\")\n",
        "  with filepath.open('wb') as f:\n",
        "      pickle.dump(history, f)\n",
        "\n",
        "def remove_eval(name):\n",
        "  filepath=Path(f\"{name}_eval.pkl\")\n",
        "  filepath.unlink(missing_ok=True)\n",
        "\n",
        "def save_eval(name, data):\n",
        "  filepath=Path(f\"{name}_eval.pkl\")\n",
        "  with filepath.open('wb') as f:\n",
        "      pickle.dump(data, f)\n",
        "  if every_model_zip:\n",
        "      zip_files(name)\n",
        "\n",
        "def load_eval(name):\n",
        "  if ignore_saved_model:\n",
        "    return None\n",
        "  filepath=Path(f\"{name}_eval.pkl\")\n",
        "  if filepath.exists():\n",
        "    with filepath.open('rb') as f:\n",
        "      return pickle.load(f)\n",
        "\n",
        "def save_pred(name):\n",
        "  if test_pred[name] is not None:\n",
        "    filepath=Path(f\"{name}_test_pred.pkl\")\n",
        "    with filepath.open('wb') as f:\n",
        "        pickle.dump(test_pred[name], f)\n",
        "    print(\"Saved test_pred\")\n",
        "  if test_pred_values[name] is not None:\n",
        "    filepath=Path(f\"{name}_test_pred_values.pkl\")\n",
        "    with filepath.open('wb') as f:\n",
        "        pickle.dump(test_pred_values[name], f)\n",
        "    print(\"Saved test_pred_values\")\n",
        "\n",
        "\n",
        "def load_pred(name):\n",
        "  if ignore_saved_model:\n",
        "    return None, None\n",
        "  test_pred, test_pred_values = None, None\n",
        "  filepath=Path(f\"{name}_test_pred.pkl\")\n",
        "  if filepath.exists():\n",
        "    with filepath.open('rb') as f:\n",
        "        test_pred = pickle.load(f)\n",
        "  if filepath.exists():\n",
        "    filepath=Path(f\"{name}_test_pred_values.pkl\")\n",
        "    with filepath.open('rb') as f:\n",
        "        test_pred_values = pickle.load(f)\n",
        "  return test_pred, test_pred_values\n",
        "\n",
        "def remove_pred(name):\n",
        "  filepath=Path(f\"{name}_test_pred.pkl\")\n",
        "  filepath.unlink(missing_ok=True)\n",
        "  filepath=Path(f\"{name}_test_pred_values.pkl\")\n",
        "  filepath.unlink(missing_ok=True)\n",
        "\n",
        "def loadmodel(name):\n",
        "  if ignore_saved_model:\n",
        "    return None\n",
        "  filepath=Path(f\"{name}_model.keras\")\n",
        "  if filepath.exists():\n",
        "    models_dnn[name] = models.load_model(filepath)\n",
        "    filepath=Path(f\"{name}_history.pkl\")\n",
        "    if filepath.exists():\n",
        "      with filepath.open('rb') as f:\n",
        "        return pickle.load(f)\n",
        "\n",
        "# Fing saved epoch\n",
        "def get_best_epoch_index(model_name):\n",
        "  try:\n",
        "    le = np.argmin(models_his[model_name].get('val_loss'),0)\n",
        "    ta = np.argmax(models_his[model_name].get('val_accuracy'),0)\n",
        "  except KeyError:\n",
        "    return 0\n",
        "  return min(le, ta)\n",
        "\n",
        "# Fing saved epoch in file\n",
        "def get_best_epoch_index_file(model_name):\n",
        "  le = 0\n",
        "  ta = 0\n",
        "  epoch = 0\n",
        "  loss_file = Path(f\"{name}_best_model_loss.epoch\")\n",
        "  if loss_file.exists():\n",
        "    le = int(loss_file.read_text())\n",
        "  # acc_file = Path(f\"{name}_best_model_acc.epoch\")\n",
        "  # if acc_file.exists():\n",
        "  #   ta = int(acc_file.read_text())\n",
        "  # if ta and (ta - le) > (accurqcy_patience - loss_patience):\n",
        "  #   epoch = ta\n",
        "  # else:\n",
        "  epoch = le\n",
        "  # fallback to use history\n",
        "  if not epoch:\n",
        "     print(f\"use fallback best epoch, {le=}, {ta=}\")\n",
        "     epoch = get_best_epoch_index(model_name)\n",
        "  return epoch\n",
        "\n",
        "\n",
        "# Dynamic learn rate that depend of epoch\n",
        "def scheduler(epoch, lr, thresh=7, thresh_lr=0.001):\n",
        "  if epoch < thresh:\n",
        "    return lr\n",
        "  else:\n",
        "    return thresh_lr\n",
        "    # return lr * tf.math.exp(-0.1)\n",
        "\n",
        "def scheduler_exp(epoch, lr, thresh=7):\n",
        "  if epoch < thresh:\n",
        "    return lr\n",
        "  else:\n",
        "    return lr * tf.math.exp(-0.1)\n",
        "\n",
        "class CustomModelCheckpoint(callbacks.ModelCheckpoint):\n",
        "    def __init__(self, filepath, monitor='val_loss', save_best_only=False, save_weights_only=False,\n",
        "                 mode='auto', verbose=0, log_file=None, **kwargs):\n",
        "        super(CustomModelCheckpoint, self).__init__(filepath, monitor=monitor, save_best_only=save_best_only, save_weights_only=save_weights_only,\n",
        "                                                     mode=mode, verbose=verbose, **kwargs)\n",
        "        self.log_file = Path(log_file)\n",
        "\n",
        "    def on_epoch_end(self, epoch, logs=None):\n",
        "        super(CustomModelCheckpoint, self).on_epoch_end(epoch, logs)\n",
        "        current_metric = logs.get(self.monitor)\n",
        "        if current_metric is not None and self.log_file is not None:\n",
        "            if (self.monitor_op == np.less and current_metric <= self.best) or \\\n",
        "               (self.monitor_op == np.greater and current_metric >= self.best):\n",
        "                # print(f\"BEST ID: {epoch}\")\n",
        "                self.log_file.write_text(str(epoch))\n",
        "\n",
        "\n",
        "def get_callbacks(name, lr_sheduler=None):\n",
        "    # Define early stopping callback\n",
        "    early_stopping_acc = callbacks.EarlyStopping(monitor='val_accuracy',\n",
        "                                                          patience=accurqcy_patience, verbose=1,\n",
        "                                                          restore_best_weights=True)\n",
        "\n",
        "    early_stopping_loss = callbacks.EarlyStopping(monitor='val_loss',\n",
        "                                                           patience=loss_patience, verbose=1,\n",
        "                                                           restore_best_weights=True, start_from_epoch=4)\n",
        "\n",
        "\n",
        "    # Define model checkpoint callback to save the best model\n",
        "    model_checkpoint_acc = CustomModelCheckpoint(filepath=f\"{name}_best_model_acc.keras\",\n",
        "                                                           monitor='val_accuracy',\n",
        "                                                           save_best_only=True,\n",
        "                                                           save_weights_only=True,\n",
        "                                                           verbose=2,\n",
        "                                                           log_file=f\"{name}_best_model_acc.epoch\"\n",
        "                                                           )\n",
        "\n",
        "    model_checkpoint_loss = CustomModelCheckpoint(filepath=f\"{name}_best_model_loss.keras\",\n",
        "                                                           monitor='val_loss',\n",
        "                                                           save_best_only=True,\n",
        "                                                           save_weights_only=True,\n",
        "                                                           verbose=2,\n",
        "                                                           log_file=f\"{name}_best_model_loss.epoch\"\n",
        "                                                  )\n",
        "\n",
        "    if lr_sheduler is None:\n",
        "      lr_sheduler = scheduler\n",
        "    learing_rate = tf.keras.callbacks.LearningRateScheduler(lr_sheduler)\n",
        "\n",
        "\n",
        "    model_tensorboard = callbacks.TensorBoard(log_dir=f\"./{tensorboard_logs}/{tensorboard_path}_{name}\", histogram_freq=1, write_graph=True, write_images=True)\n",
        "\n",
        "    # https://www.tensorflow.org/api_docs/python/tf/keras/callbacks/ReduceLROnPlateau\n",
        "    model_reduce_lr = callbacks.ReduceLROnPlateau(monitor='val_loss', factor=0.2,\n",
        "                                                  patience=2, min_lr=1e-8, verbose=1)\n",
        "\n",
        "    # model_csv_logger = callbacks.CSVLogger(f'training_{name}.log')\n",
        "\n",
        "    return [model_reduce_lr, early_stopping_loss, early_stopping_acc,\n",
        "            model_checkpoint_acc, model_checkpoint_loss, learing_rate, model_tensorboard]\n",
        "\n",
        "\n",
        "def compile_and_fit(model, name, batch_size=512, learning_rate=learning_rate, max_epochs=100,\n",
        "                    optimizer=None, shedule=None, verbose=2, recover=None,\n",
        "                    x_train=x_train, y_train=y_train, validation_data=validation_data, train_data=None,\n",
        "                    validation_split=validation_split):\n",
        "  history = loadmodel(name)\n",
        "  if history is not None:\n",
        "      return history\n",
        "  print(f\"{use_test_for_validate=}\")\n",
        "  if optimizer is None:\n",
        "    optimizer = optimizers.Adam(learning_rate=learning_rate)\n",
        "\n",
        "  model.compile(\n",
        "      optimizer=optimizer,\n",
        "      loss='binary_crossentropy',\n",
        "      metrics=[\"accuracy\"]\n",
        "  )\n",
        "\n",
        "  if train_data is not None:\n",
        "    x_train, x_train = train_data\n",
        "\n",
        "  try:\n",
        "    model.summary()\n",
        "  except ValueError:\n",
        "    ...\n",
        "\n",
        "  if y_train is not None:\n",
        "   train = (x_train, y_train)\n",
        "  else:\n",
        "   train = x_train\n",
        "\n",
        "  m_history = model.fit(\n",
        "      x_train, y_train,\n",
        "      epochs=max_epochs,\n",
        "      batch_size=batch_size,\n",
        "      validation_split=validation_split,\n",
        "      validation_data=validation_data,\n",
        "      callbacks=get_callbacks(name, shedule),\n",
        "      use_multiprocessing=True,\n",
        "      verbose=verbose\n",
        "  )\n",
        "  history = m_history.history\n",
        "  savemodel(name, model, history)\n",
        "  return history\n",
        "\n",
        "def evaluate_load(model_name, x_test, y_test, verbose=True, test_data=None):\n",
        "  if test_data is not None:\n",
        "    x_test, y_test = test_data\n",
        "  eval = load_eval(model_name)\n",
        "  if eval is None:\n",
        "    eval = models_dnn[model_name].evaluate(x_test, y_test, verbose=verbose)\n",
        "    save_eval(model_name, eval)\n",
        "  return eval\n"
      ],
      "metadata": {
        "id": "eIqUWD3dKXji"
      },
      "execution_count": 56,
      "outputs": []
    },
    {
      "cell_type": "code",
      "source": [
        "# @title\n",
        "# GOOGLE DRIVE MOUNT\n",
        "from google.colab import drive\n",
        "\n",
        "if not gdrive.exists():\n",
        "  drive.mount(str(gdrive))\n",
        "\n",
        "load_models_gdrive(model_zip_gdrive)"
      ],
      "metadata": {
        "colab": {
          "base_uri": "https://localhost:8080/"
        },
        "id": "zdpBygsSO6Kx",
        "outputId": "4a0e0386-db69-4c92-90dc-80fa1531a304"
      },
      "execution_count": 27,
      "outputs": [
        {
          "output_type": "stream",
          "name": "stdout",
          "text": [
            "/content/drive/MyDrive/Colab Notebooks/GoIT/datasets/goit_python_ds_hw_11_models.zip\n"
          ]
        }
      ]
    },
    {
      "cell_type": "code",
      "source": [
        "models_dnn = {}\n",
        "models_his = {}\n",
        "results = {}\n",
        "\n",
        "validation_split = 0.0\n",
        "validation_data = None\n",
        "\n",
        "if use_test_for_validate:\n",
        "  validation_data = (x_test, y_test)\n",
        "else:\n",
        "  validation_split = 0.3"
      ],
      "metadata": {
        "id": "oKyCLuRWKSIT"
      },
      "execution_count": 28,
      "outputs": []
    },
    {
      "cell_type": "code",
      "source": [
        "epochs = 30\n",
        "batch_size = 512\n",
        "accurqcy_patience = 8\n",
        "loss_patience = 3\n",
        "use_CPU = False"
      ],
      "metadata": {
        "id": "HFXXtf2BPQKv"
      },
      "execution_count": 61,
      "outputs": []
    },
    {
      "cell_type": "markdown",
      "source": [
        "# MODEL_1"
      ],
      "metadata": {
        "id": "FCoTtxIFKpXa"
      }
    },
    {
      "cell_type": "code",
      "source": [
        "model_name = \"Model_1\"\n",
        "\n",
        "models_dnn[model_name] = models.Sequential(name=model_name)\n",
        "# Створення порожньої моделі Sequential\n",
        "\n",
        "# Додавання Embedding шару для перетворення слів в вектори фіксованої довжини\n",
        "models_dnn[model_name].add(layers.Embedding(max_features, 32))\n",
        "# Параметри: кількість слів для розгляду як особливості та розмір вектора, що представляє кожне слово\n",
        "\n",
        "# Додавання SimpleRNN шару з 32 вузлами\n",
        "models_dnn[model_name].add(layers.SimpleRNN(32))\n",
        "# Параметр: кількість вузлів (розмір прихованого стану)\n",
        "\n",
        "# Додавання Dense шару з одним вузлом та активацією sigmoid\n",
        "models_dnn[model_name].add(layers.Dense(1, activation='sigmoid'))\n",
        "# Параметри: кількість вузлів (вихідний розмір) та функція активації (sigmoid для бінарної класифікації)\n",
        "\n",
        "models_his[model_name] = compile_and_fit(models_dnn[model_name], model_name,\n",
        "                                         batch_size=batch_size, max_epochs=epochs)\n",
        "results[model_name] = evaluate_load(model_name, x_test, y_test, verbose=True)\n",
        "print(results[model_name])"
      ],
      "metadata": {
        "colab": {
          "base_uri": "https://localhost:8080/"
        },
        "id": "5gfopi4eLh7v",
        "outputId": "bd26b851-d95b-4fa8-af97-536bcb336d1e"
      },
      "execution_count": 44,
      "outputs": [
        {
          "output_type": "stream",
          "name": "stdout",
          "text": [
            "use_test_for_validate=False\n",
            "Model: \"Model_1\"\n",
            "_________________________________________________________________\n",
            " Layer (type)                Output Shape              Param #   \n",
            "=================================================================\n",
            " embedding_9 (Embedding)     (None, None, 32)          320000    \n",
            "                                                                 \n",
            " simple_rnn_9 (SimpleRNN)    (None, 32)                2080      \n",
            "                                                                 \n",
            " dense_9 (Dense)             (None, 1)                 33        \n",
            "                                                                 \n",
            "=================================================================\n",
            "Total params: 322113 (1.23 MB)\n",
            "Trainable params: 322113 (1.23 MB)\n",
            "Non-trainable params: 0 (0.00 Byte)\n",
            "_________________________________________________________________\n",
            "Epoch 1/30\n",
            "\n",
            "Epoch 1: val_accuracy improved from -inf to 0.68956, saving model to Model_1_best_model_acc.keras\n",
            "\n",
            "Epoch 1: val_loss improved from inf to 0.57344, saving model to Model_1_best_model_loss.keras\n",
            "49/49 - 27s - loss: 0.5532 - accuracy: 0.7041 - val_loss: 0.5734 - val_accuracy: 0.6896 - lr: 0.0050 - 27s/epoch - 555ms/step\n",
            "Epoch 2/30\n",
            "\n",
            "Epoch 2: val_accuracy did not improve from 0.68956\n",
            "\n",
            "Epoch 2: val_loss did not improve from 0.57344\n",
            "49/49 - 20s - loss: 0.5017 - accuracy: 0.7492 - val_loss: 0.6102 - val_accuracy: 0.6482 - lr: 0.0050 - 20s/epoch - 418ms/step\n",
            "Epoch 3/30\n",
            "\n",
            "Epoch 3: ReduceLROnPlateau reducing learning rate to 0.0009999999776482583.\n",
            "\n",
            "Epoch 3: val_accuracy did not improve from 0.68956\n",
            "\n",
            "Epoch 3: val_loss did not improve from 0.57344\n",
            "49/49 - 20s - loss: 0.5452 - accuracy: 0.7242 - val_loss: 0.6000 - val_accuracy: 0.6688 - lr: 1.0000e-03 - 20s/epoch - 399ms/step\n",
            "Epoch 4/30\n",
            "\n",
            "Epoch 4: val_accuracy improved from 0.68956 to 0.70088, saving model to Model_1_best_model_acc.keras\n",
            "\n",
            "Epoch 4: val_loss improved from 0.57344 to 0.56431, saving model to Model_1_best_model_loss.keras\n",
            "49/49 - 27s - loss: 0.4857 - accuracy: 0.7740 - val_loss: 0.5643 - val_accuracy: 0.7009 - lr: 1.0000e-03 - 27s/epoch - 560ms/step\n",
            "Epoch 5/30\n",
            "\n",
            "Epoch 5: val_accuracy improved from 0.70088 to 0.73932, saving model to Model_1_best_model_acc.keras\n",
            "\n",
            "Epoch 5: val_loss improved from 0.56431 to 0.52197, saving model to Model_1_best_model_loss.keras\n",
            "49/49 - 21s - loss: 0.4318 - accuracy: 0.8100 - val_loss: 0.5220 - val_accuracy: 0.7393 - lr: 1.0000e-03 - 21s/epoch - 419ms/step\n",
            "Epoch 6/30\n",
            "\n",
            "Epoch 6: val_accuracy improved from 0.73932 to 0.77024, saving model to Model_1_best_model_acc.keras\n",
            "\n",
            "Epoch 6: val_loss improved from 0.52197 to 0.48582, saving model to Model_1_best_model_loss.keras\n",
            "49/49 - 20s - loss: 0.3725 - accuracy: 0.8439 - val_loss: 0.4858 - val_accuracy: 0.7702 - lr: 1.0000e-03 - 20s/epoch - 411ms/step\n",
            "Epoch 7/30\n",
            "\n",
            "Epoch 7: val_accuracy improved from 0.77024 to 0.80248, saving model to Model_1_best_model_acc.keras\n",
            "\n",
            "Epoch 7: val_loss improved from 0.48582 to 0.44258, saving model to Model_1_best_model_loss.keras\n",
            "49/49 - 20s - loss: 0.3257 - accuracy: 0.8676 - val_loss: 0.4426 - val_accuracy: 0.8025 - lr: 1.0000e-03 - 20s/epoch - 404ms/step\n",
            "Epoch 8/30\n",
            "\n",
            "Epoch 8: val_accuracy improved from 0.80248 to 0.81604, saving model to Model_1_best_model_acc.keras\n",
            "\n",
            "Epoch 8: val_loss improved from 0.44258 to 0.42829, saving model to Model_1_best_model_loss.keras\n",
            "49/49 - 19s - loss: 0.2913 - accuracy: 0.8812 - val_loss: 0.4283 - val_accuracy: 0.8160 - lr: 0.0010 - 19s/epoch - 386ms/step\n",
            "Epoch 9/30\n",
            "\n",
            "Epoch 9: val_accuracy improved from 0.81604 to 0.82444, saving model to Model_1_best_model_acc.keras\n",
            "\n",
            "Epoch 9: val_loss improved from 0.42829 to 0.42030, saving model to Model_1_best_model_loss.keras\n",
            "49/49 - 20s - loss: 0.2743 - accuracy: 0.8861 - val_loss: 0.4203 - val_accuracy: 0.8244 - lr: 0.0010 - 20s/epoch - 402ms/step\n",
            "Epoch 10/30\n",
            "\n",
            "Epoch 10: val_accuracy improved from 0.82444 to 0.82696, saving model to Model_1_best_model_acc.keras\n",
            "\n",
            "Epoch 10: val_loss did not improve from 0.42030\n",
            "49/49 - 20s - loss: 0.2286 - accuracy: 0.9112 - val_loss: 0.4221 - val_accuracy: 0.8270 - lr: 0.0010 - 20s/epoch - 416ms/step\n",
            "Epoch 11/30\n",
            "\n",
            "Epoch 11: ReduceLROnPlateau reducing learning rate to 0.00020000000949949026.\n",
            "\n",
            "Epoch 11: val_accuracy did not improve from 0.82696\n",
            "\n",
            "Epoch 11: val_loss did not improve from 0.42030\n",
            "49/49 - 21s - loss: 0.2074 - accuracy: 0.9231 - val_loss: 0.4264 - val_accuracy: 0.8239 - lr: 2.0000e-04 - 21s/epoch - 419ms/step\n",
            "Epoch 12/30\n",
            "Restoring model weights from the end of the best epoch: 9.\n",
            "\n",
            "Epoch 12: val_accuracy improved from 0.82696 to 0.82784, saving model to Model_1_best_model_acc.keras\n",
            "\n",
            "Epoch 12: val_loss did not improve from 0.42030\n",
            "49/49 - 25s - loss: 0.1871 - accuracy: 0.9330 - val_loss: 0.4246 - val_accuracy: 0.8278 - lr: 0.0010 - 25s/epoch - 514ms/step\n",
            "Epoch 12: early stopping\n",
            "782/782 [==============================] - 20s 26ms/step - loss: 0.4203 - accuracy: 0.8244\n",
            "Creating goit_python_ds_hw_11_models.zip\n",
            "updating: Model_1_model.keras (deflated 8%)\n",
            "updating: Model_1_eval.pkl (deflated 15%)\n",
            "updating: Model_1_history.pkl (deflated 45%)\n",
            "updating: Model_1_best_model_acc.epoch (stored 0%)\n",
            "updating: Model_1_best_model_loss.epoch (stored 0%)\n",
            "updating: logs/tensorboard_Model_1/ (stored 0%)\n",
            "updating: logs/tensorboard_Model_1/train/ (stored 0%)\n",
            "updating: logs/tensorboard_Model_1/train/events.out.tfevents.1710189984.a092df6f9ef9.210.3.v2 (deflated 2%)\n",
            "updating: logs/tensorboard_Model_1/train/events.out.tfevents.1710189634.a092df6f9ef9.210.0.v2 (deflated 3%)\n",
            "updating: logs/tensorboard_Model_1/train/events.out.tfevents.1710189951.a092df6f9ef9.210.2.v2 (deflated 73%)\n",
            "updating: logs/tensorboard_Model_1/validation/ (stored 0%)\n",
            "updating: logs/tensorboard_Model_1/validation/events.out.tfevents.1710189730.a092df6f9ef9.210.1.v2 (deflated 36%)\n",
            "updating: logs/tensorboard_Model_1/validation/events.out.tfevents.1710190004.a092df6f9ef9.210.4.v2 (deflated 65%)\n",
            "  adding: logs/tensorboard_Model_1/train/events.out.tfevents.1710190276.a092df6f9ef9.210.7.v2 (deflated 2%)\n",
            "  adding: logs/tensorboard_Model_1/train/events.out.tfevents.1710190498.a092df6f9ef9.210.9.v2 (deflated 2%)\n",
            "  adding: logs/tensorboard_Model_1/train/events.out.tfevents.1710190221.a092df6f9ef9.210.5.v2 (deflated 3%)\n",
            "  adding: logs/tensorboard_Model_1/validation/events.out.tfevents.1710190514.a092df6f9ef9.210.10.v2 (deflated 72%)\n",
            "  adding: logs/tensorboard_Model_1/validation/events.out.tfevents.1710190241.a092df6f9ef9.210.6.v2 (deflated 36%)\n",
            "  adding: logs/tensorboard_Model_1/validation/events.out.tfevents.1710190325.a092df6f9ef9.210.8.v2 (deflated 52%)\n",
            "Copy to GDrive: /content/drive/MyDrive/Colab Notebooks/GoIT/datasets/goit_python_ds_hw_11_models_progress.zip\n",
            "[0.4202982485294342, 0.8244400024414062]\n"
          ]
        }
      ]
    },
    {
      "cell_type": "markdown",
      "source": [
        "# Звіт"
      ],
      "metadata": {
        "id": "jFzxml7EZ1yn"
      }
    },
    {
      "cell_type": "markdown",
      "metadata": {
        "id": "jqhInlJ6BE7e"
      },
      "source": [
        "## Звіт про навчання моделей"
      ]
    },
    {
      "cell_type": "code",
      "execution_count": 59,
      "metadata": {
        "id": "Nv7NH4uyOWBy"
      },
      "outputs": [],
      "source": [
        "# @title\n",
        "def summarize(h, name, results=None):\n",
        "    print(f\"Summarize for: {name}\")\n",
        "    # plot loss\n",
        "    closest_epoch_index = None\n",
        "    if results:\n",
        "      if False: #use_test_for_validate:\n",
        "        closest_epoch_index_val_loss = np.argmin(np.abs(np.array(h['val_loss']) - results[0]))\n",
        "        closest_epoch_index_val_acc = np.argmin(np.abs(np.array(h['val_accuracy']) - results[1]))\n",
        "        closest_epoch_index = min(closest_epoch_index_val_loss, closest_epoch_index_val_acc)\n",
        "      else:\n",
        "        closest_epoch_index = get_best_epoch_index_file(name)\n",
        "      stop_dist = len(h['val_loss'])-closest_epoch_index-1\n",
        "      print(f\"{closest_epoch_index=}, {stop_dist=}\")\n",
        "      why_stop = \"epoch\"\n",
        "      if stop_dist >= loss_patience and stop_dist < accurqcy_patience:\n",
        "        why_stop = \"loss\"\n",
        "      elif stop_dist >= accurqcy_patience:\n",
        "        why_stop = \"accuracy\"\n",
        "\n",
        "    plt.figure(figsize=(12,8))\n",
        "    plt.subplot(2, 1, 1)\n",
        "    plt.title(f'Cross Entropy Loss {name}')\n",
        "    if closest_epoch_index:\n",
        "      plt.axvline(x=closest_epoch_index, color='green', linestyle='dotted', label=f\"Early stop: {closest_epoch_index+1} ({why_stop})\")\n",
        "      model_accuracy = h['val_loss'][closest_epoch_index]\n",
        "      test_accuracy = results[1]\n",
        "      intersection_text = 'Lowest value'\n",
        "      plt.annotate(intersection_text, xy=(closest_epoch_index, model_accuracy), xytext=(closest_epoch_index + 0.5, model_accuracy + 0.1),\n",
        "                  arrowprops=dict(facecolor='green', edgecolor='green', arrowstyle='->'),\n",
        "                   fontsize=8, color='green',bbox=dict(facecolor='white', edgecolor='green', alpha=0.8) )\n",
        "\n",
        "    plt.plot(h['loss'], color='blue', label='train')\n",
        "    plt.plot(h['val_loss'], \"--\", color='orange', label='validate')\n",
        "    axis = plt.gca()\n",
        "    axis.xaxis.set_major_formatter(plt.FuncFormatter(lambda x, _: int((x + 1))))\n",
        "    max_x_value = len(h['loss'])\n",
        "    if max_x_value < 55:\n",
        "      axis.xaxis.set_major_locator(FixedLocator(range(0, max_x_value)))\n",
        "    plt.xlabel('Epoch')\n",
        "    plt.ylabel('Loss')\n",
        "    plt.ylim(0,1)\n",
        "    plt.xlim(0,max_x_value-1)\n",
        "    plt.legend()\n",
        "    plt.grid()\n",
        "    plt.tight_layout(pad=3.0)\n",
        "    # plot accuracy\n",
        "    plt.subplot(2, 1, 2)\n",
        "    plt.title(f'Classification Accuracy {name}')\n",
        "    if closest_epoch_index:\n",
        "      plt.axvline(x=closest_epoch_index, color='green', linestyle='dotted', label=f\"Early stop: {closest_epoch_index+1} ({why_stop})\")\n",
        "\n",
        "      model_accuracy = h['val_accuracy'][closest_epoch_index]\n",
        "      intersection_text = f'({model_accuracy:.2%})'\n",
        "      x_annotate_shift = 1.2\n",
        "      if not use_test_for_validate:\n",
        "          intersection_text = f'val: {model_accuracy:.2%}\\ntest: {test_accuracy:.2%}'\n",
        "          x_annotate_shift = 1.7\n",
        "      plt.annotate(intersection_text, xy=(closest_epoch_index, model_accuracy), xytext=(closest_epoch_index + x_annotate_shift, model_accuracy - 0.05),\n",
        "                  arrowprops=dict(facecolor='green', edgecolor='green', arrowstyle='->'),\n",
        "                   fontsize=8, color='green',bbox=dict(facecolor='white', edgecolor='green', alpha=0.8),\n",
        "                   ha=\"right\")\n",
        "\n",
        "    plt.plot(h['accuracy'], color='blue', label='train')\n",
        "    plt.plot(h['val_accuracy'], \"--\", color='orange', label='validate')\n",
        "    axis = plt.gca()\n",
        "    axis.xaxis.set_major_formatter(plt.FuncFormatter(lambda x, _: int((x + 1))))\n",
        "    if max_x_value < 55:\n",
        "      axis.xaxis.set_major_locator(FixedLocator(range(0, max_x_value)))\n",
        "    axis.yaxis.set_major_formatter(plt.FuncFormatter(lambda y, _: f'{y:.0%}'))\n",
        "    plt.legend()\n",
        "    plt.xlabel('Epoch')\n",
        "    plt.ylabel('Accuracy')\n",
        "    plt.ylim(0.6,1)\n",
        "    plt.xlim(0,max_x_value-1)\n",
        "    plt.grid()\n",
        "    fname = name.replace(\"(\", \"\").replace(\")\", \"\")\n",
        "    fname = f'img_{fname}_ca.png'\n",
        "    plt.savefig(fname, bbox_inches='tight')\n",
        "    plt.show()"
      ]
    },
    {
      "cell_type": "code",
      "source": [
        "def md_print_helper_ca():\n",
        "  print(\"Total modlels: \", len(models_his))\n",
        "  for name in models_his.keys():\n",
        "    fname = f'img_{name}_ca.png'\n",
        "    print(f'\\n![Learning of ({name})]({fname})')\n",
        "\n",
        "md_print_helper_ca()"
      ],
      "metadata": {
        "id": "00c2NGpNJ7QT",
        "colab": {
          "base_uri": "https://localhost:8080/"
        },
        "outputId": "ce3599ba-4ea5-428b-a71d-66a8c21fa0c6"
      },
      "execution_count": 46,
      "outputs": [
        {
          "output_type": "stream",
          "name": "stdout",
          "text": [
            "Total modlels:  1\n",
            "\n",
            "![Learning of (Model_1)](img_Model_1_ca.png)\n"
          ]
        }
      ]
    },
    {
      "cell_type": "code",
      "execution_count": 60,
      "metadata": {
        "colab": {
          "base_uri": "https://localhost:8080/",
          "height": 833
        },
        "id": "JGPn-VSPOWB0",
        "outputId": "1f18cad9-ecb6-48aa-dfd7-97b268ad2177"
      },
      "outputs": [
        {
          "output_type": "stream",
          "name": "stdout",
          "text": [
            "Summarize for: (Model_1)\n",
            "closest_epoch_index=8, stop_dist=3\n"
          ]
        },
        {
          "output_type": "display_data",
          "data": {
            "text/plain": [
              "<Figure size 1200x800 with 2 Axes>"
            ],
            "image/png": "[encoded data removed]"
          },
          "metadata": {}
        }
      ],
      "source": [
        "for name, models_h in models_his.items():\n",
        "  #print(name)\n",
        "  summarize(models_h, f\"({name})\", results[name])"
      ]
    },
    {
      "cell_type": "markdown",
      "metadata": {
        "id": "GcURorKNM4l2"
      },
      "source": [
        "## Reports"
      ]
    },
    {
      "cell_type": "code",
      "source": [],
      "metadata": {
        "id": "6uVcHw-a4wc8"
      },
      "execution_count": 47,
      "outputs": []
    },
    {
      "cell_type": "code",
      "source": [
        "def load_pred_all():\n",
        "  if ignore_saved_model:\n",
        "    return None, None\n",
        "  test_pred, test_pred_values = None, None\n",
        "  filepath=Path(\"models_test_pred.pkl\")\n",
        "  if filepath.exists():\n",
        "    with filepath.open('rb') as f:\n",
        "        test_pred = pickle.load(f)\n",
        "  if filepath.exists():\n",
        "    filepath=Path(\"models_test_pred_values.pkl\")\n",
        "    with filepath.open('rb') as f:\n",
        "        test_pred_values = pickle.load(f)\n",
        "  return test_pred, test_pred_values\n",
        "\n",
        "  # test_pred, test_pred_values = load_pred_all()\n"
      ],
      "metadata": {
        "id": "2CvkeULzu9Wh"
      },
      "execution_count": 48,
      "outputs": []
    },
    {
      "cell_type": "code",
      "execution_count": 73,
      "metadata": {
        "id": "75l6PjGWvtqJ",
        "colab": {
          "base_uri": "https://localhost:8080/"
        },
        "outputId": "0dc46a90-c37e-4157-bad0-7cb3f2bf1a9b"
      },
      "outputs": [
        {
          "output_type": "stream",
          "name": "stdout",
          "text": [
            "\"Model_1\" based on (Model_1)\n",
            "49/49 [==============================] - 8s 170ms/step\n",
            "Saved test_pred\n",
            "Saved test_pred_values\n"
          ]
        }
      ],
      "source": [
        "test_pred_values = {}\n",
        "test_pred = {}\n",
        "need_use_prepared_data = ['Model_1']\n",
        "\n",
        "for name, models_h in models_his.items():\n",
        "  print(f'\"{name}\" based on ({models_dnn[name].name})')\n",
        "  try:\n",
        "    test_pred_, test_pred_values_ = load_pred(name)\n",
        "    if test_pred_ is None or test_pred_values_ is None:\n",
        "      x = x_test\n",
        "      test_pred[name] = models_dnn[name].predict(x, batch_size=batch_size, use_multiprocessing=True)\n",
        "      test_pred_values[name] = np.where( test_pred[name] > 0.5, 1.0, 0.0)\n",
        "      save_pred(name)\n",
        "    else:\n",
        "      test_pred[name] = test_pred_\n",
        "      test_pred_values[name] = test_pred_values_\n",
        "      print(\"* Restored form file store\")\n",
        "  except ValueError as err:\n",
        "    print(\"  ** Skiped. \", 'May be some layer is incompatible with the expected shape')\n",
        "\n"
      ]
    },
    {
      "cell_type": "code",
      "source": [
        "test_pred[name]"
      ],
      "metadata": {
        "colab": {
          "base_uri": "https://localhost:8080/"
        },
        "id": "TzxgGtAcYa3F",
        "outputId": "96adf82c-6be3-4caf-b12b-53d443f2c1fe"
      },
      "execution_count": 74,
      "outputs": [
        {
          "output_type": "execute_result",
          "data": {
            "text/plain": [
              "array([[0.09888251],\n",
              "       [0.9916637 ],\n",
              "       [0.11280467],\n",
              "       ...,\n",
              "       [0.16250621],\n",
              "       [0.04975736],\n",
              "       [0.75691634]], dtype=float32)"
            ]
          },
          "metadata": {},
          "execution_count": 74
        }
      ]
    },
    {
      "cell_type": "code",
      "source": [
        "test_pred_values[name]"
      ],
      "metadata": {
        "colab": {
          "base_uri": "https://localhost:8080/"
        },
        "id": "jtK0clb6YfqK",
        "outputId": "1e6b8890-ccd5-4ea7-adc5-bf805089ec66"
      },
      "execution_count": 77,
      "outputs": [
        {
          "output_type": "execute_result",
          "data": {
            "text/plain": [
              "array([[0.],\n",
              "       [1.],\n",
              "       [0.],\n",
              "       ...,\n",
              "       [0.],\n",
              "       [0.],\n",
              "       [1.]])"
            ]
          },
          "metadata": {},
          "execution_count": 77
        }
      ]
    },
    {
      "cell_type": "code",
      "source": [
        "test_pred[name].shape"
      ],
      "metadata": {
        "colab": {
          "base_uri": "https://localhost:8080/"
        },
        "id": "BJ-LwtCUZVah",
        "outputId": "419ccedf-a312-4356-e1b1-f1fe16070404"
      },
      "execution_count": 79,
      "outputs": [
        {
          "output_type": "execute_result",
          "data": {
            "text/plain": [
              "(25000, 1)"
            ]
          },
          "metadata": {},
          "execution_count": 79
        }
      ]
    },
    {
      "cell_type": "code",
      "source": [
        "test_pred_values[name].shape"
      ],
      "metadata": {
        "colab": {
          "base_uri": "https://localhost:8080/"
        },
        "id": "E8vJgLVqYxv6",
        "outputId": "95b788d6-9824-4502-eed8-5be8c28f0368"
      },
      "execution_count": 78,
      "outputs": [
        {
          "output_type": "execute_result",
          "data": {
            "text/plain": [
              "(25000, 1)"
            ]
          },
          "metadata": {},
          "execution_count": 78
        }
      ]
    },
    {
      "cell_type": "code",
      "execution_count": 80,
      "metadata": {
        "colab": {
          "base_uri": "https://localhost:8080/",
          "height": 784
        },
        "id": "e7NK7-KW-IwX",
        "outputId": "6ead656f-31b7-4ba4-c0e2-b58ec2a3c7d9"
      },
      "outputs": [
        {
          "output_type": "stream",
          "name": "stdout",
          "text": [
            "Classification report for: 'Model_1'\n",
            "(25000,) (25000, 1)\n",
            "              precision    recall  f1-score   support\n",
            "\n",
            "           0       0.81      0.85      0.83     12500\n",
            "           1       0.84      0.80      0.82     12500\n",
            "\n",
            "    accuracy                           0.82     25000\n",
            "   macro avg       0.83      0.82      0.82     25000\n",
            "weighted avg       0.83      0.82      0.82     25000\n",
            "\n",
            "Accuracy: 82.44%, ROC-AUC: 0.8979\n",
            "\n",
            "Confusion matrix for: 'Model_1'\n"
          ]
        },
        {
          "output_type": "display_data",
          "data": {
            "text/plain": [
              "<Figure size 640x480 with 2 Axes>"
            ],
            "image/png": "[encoded data removed]"
          },
          "metadata": {}
        },
        {
          "output_type": "stream",
          "name": "stdout",
          "text": [
            "['0', '1']\n",
            "------------------------------------------------------------ \n",
            "\n"
          ]
        }
      ],
      "source": [
        "#target_names = [ f\"{i} - {labels[i]:11}\" for i in range(0, num_classes)]\n",
        "target_names = [\"0\",\"1\"]\n",
        "moldel_roc_auc={}\n",
        "\n",
        "for name in models_his.keys():\n",
        "  print(f\"Classification report for: '{name}'\")\n",
        "  try:\n",
        "    y = y_test\n",
        "    y_pred = test_pred_values[name]\n",
        "    # if len(y.shape) !=  len(y_pred.shape):\n",
        "    #   y = np.argmax(y_test, axis=1)\n",
        "    #   # y_pred = test_pred[name]\n",
        "    print(y.shape, y_pred.shape)\n",
        "    print(classification_report(y, y_pred, target_names=target_names))\n",
        "    cr = classification_report(y, y_pred, target_names=target_names, output_dict=True)\n",
        "    roc_auc = roc_auc_score(y, test_pred[name], multi_class='ovo')\n",
        "    moldel_roc_auc[name] = roc_auc\n",
        "    print(f'Accuracy: {cr[\"accuracy\"]:.2%}, ROC-AUC: {roc_auc:.4f}')\n",
        "    print(f\"\\nConfusion matrix for: '{name}'\")\n",
        "    confusion_matrix(y, y_pred)\n",
        "    ConfusionMatrixDisplay.from_predictions(y, y_pred)\n",
        "    plt.title(f\"Confusion matrix for: '{name}'\")\n",
        "    fname = f'img_{name}_cm.png'\n",
        "    plt.savefig(fname, bbox_inches='tight')\n",
        "    plt.show()\n",
        "    print(list(map(lambda x: x.strip(),target_names)))\n",
        "    print(\"-\"*60,\"\\n\")\n",
        "  except (KeyError, ValueError) as err:\n",
        "    print(\"ERROR\", err)"
      ]
    },
    {
      "cell_type": "code",
      "source": [
        "# for name in models_his.keys():\n",
        "#   fname = f'img_{name}_cm.png'\n",
        "#   img = Path(fname)\n",
        "#   if img.exists():\n",
        "#     print(f'\\n![Confusion matrix of ({name})]({fname})')"
      ],
      "metadata": {
        "id": "StFNcHrUz-hw"
      },
      "execution_count": null,
      "outputs": []
    },
    {
      "cell_type": "code",
      "source": [
        "def md_print_helper_cm():\n",
        "  print('| Model  | Model  | Model  |')\n",
        "  print('|:------:|:------:|:------:|')\n",
        "  i = 0\n",
        "  id = 0\n",
        "  cols = 3\n",
        "  i_width = 235\n",
        "  row=['','','']\n",
        "  row_t=['','','']\n",
        "  for name in models_his.keys():\n",
        "    fname = f'img_{name}_cm.png'\n",
        "    img = Path(fname)\n",
        "    if img.exists():\n",
        "      # md_img = f'![Confusion matrix of ({name})]({fname})'\n",
        "      md_img = f'<img src=\"{fname}\" alt=\"Confusion matrix of ({name})\" width=\"{i_width}\">'\n",
        "      id = i % cols\n",
        "      if id == 0:\n",
        "        row=['','','']\n",
        "        row_t=['','','']\n",
        "      # print(f\"{i=}, {id=}\")\n",
        "      row[id] = md_img\n",
        "      row_t[id] = name\n",
        "      if id == cols - 1:\n",
        "        print(\"|\", \" | \".join(row), \"|\", sep=\" \")\n",
        "        print(\"|\", \" | \".join(row_t), \"|\", sep=\" \")\n",
        "      i += 1\n",
        "  if id < cols - 1:\n",
        "    print(\"|\", \" | \".join(row), \"|\", sep=\" \")\n",
        "    print(\"|\", \" | \".join(row_t), \"|\", sep=\" \")\n",
        "\n",
        "md_print_helper_cm()"
      ],
      "metadata": {
        "id": "wyG2lF0METif",
        "colab": {
          "base_uri": "https://localhost:8080/"
        },
        "outputId": "298c8ff9-5c90-40d6-b8c0-d8ebb68d54d8"
      },
      "execution_count": 81,
      "outputs": [
        {
          "output_type": "stream",
          "name": "stdout",
          "text": [
            "| Model  | Model  | Model  |\n",
            "|:------:|:------:|:------:|\n",
            "| <img src=\"img_Model_1_cm.png\" alt=\"Confusion matrix of (Model_1)\" width=\"235\"> |  |  |\n",
            "| Model_1 |  |  |\n"
          ]
        }
      ]
    },
    {
      "cell_type": "markdown",
      "metadata": {
        "id": "IMQ1VR3FA-4q"
      },
      "source": [
        "## Зберігаємо всі моделі"
      ]
    },
    {
      "cell_type": "code",
      "execution_count": 82,
      "metadata": {
        "id": "uN3TvWpGA4my",
        "collapsed": true,
        "colab": {
          "base_uri": "https://localhost:8080/"
        },
        "outputId": "e66fc0b9-0c95-4b3d-f8bb-9672f3541952"
      },
      "outputs": [
        {
          "output_type": "stream",
          "name": "stdout",
          "text": [
            "Creating goit_python_ds_hw_11_models.zip\n",
            "Copy to GDrive: /content/drive/MyDrive/Colab Notebooks/GoIT/datasets/goit_python_ds_hw_11_models.zip\n"
          ]
        }
      ],
      "source": [
        "zip_files()"
      ]
    },
    {
      "cell_type": "markdown",
      "metadata": {
        "id": "AzWHh5AYVB09"
      },
      "source": [
        "## Порівняння моделей за val. accur."
      ]
    },
    {
      "cell_type": "code",
      "execution_count": 87,
      "metadata": {
        "colab": {
          "base_uri": "https://localhost:8080/",
          "height": 667
        },
        "id": "MgI62KmnNO_8",
        "outputId": "645a1ab2-2b29-40ad-efb1-4fe45d7476c0"
      },
      "outputs": [
        {
          "output_type": "display_data",
          "data": {
            "text/plain": [
              "<Figure size 1600x700 with 1 Axes>"
            ],
            "image/png": "[encoded data removed]"
          },
          "metadata": {}
        }
      ],
      "source": [
        "low_val=70\n",
        "try:\n",
        "  bar_y = [ results.get(m,(0.,0.8))[1]*100 for m in models_dnn ]\n",
        "  ra_y = [ moldel_roc_auc.get(m,(0.)) for m in models_dnn ]\n",
        "\n",
        "  plt.figure(figsize=(16,7))\n",
        "  plt.grid()\n",
        "  plt.gca().set_axisbelow(True)\n",
        "  num_colors = len(models_dnn)\n",
        "  colors = plt.cm.tab20(np.linspace(0, 1, num_colors))\n",
        "  bars = plt.bar(x=models_dnn.keys(), height=bar_y, color=colors) #plt.cm.tab20(colors)\n",
        "  for bar, value, roc_auc in zip(bars, bar_y, ra_y):\n",
        "      plt.text(bar.get_x() + bar.get_width() / 2, bar.get_height(), f\"{value:.4}%\", ha='center', va='bottom', fontsize=8)\n",
        "      if value > low_val + 3.5:\n",
        "        plt.text(bar.get_x() + bar.get_width() / 2 , low_val + 0.5, f\"ROC-AUC: {roc_auc:.4}\", ha='center', va='bottom', fontsize=8, rotation=90)\n",
        "\n",
        "\n",
        "  plt.ylim(low_val,95)\n",
        "  plt.xticks(rotation=80)\n",
        "  plt.title(\"Validated accuracy of the models\")\n",
        "  plt.ylabel(\"Validated accuracy %\")\n",
        "  plt.savefig(f'img_va.png', bbox_inches='tight')\n",
        "  plt.show()\n",
        "except KeyError as err:\n",
        "  print(err)"
      ]
    },
    {
      "cell_type": "code",
      "source": [
        "sorted_indices = sorted(range(len(bar_y)), key=lambda k: bar_y[k])\n",
        "bar_x_s = [list(models_dnn.keys())[i] for i in sorted_indices]\n",
        "bar_y_s = [bar_y[i] for i in sorted_indices]\n",
        "ra_y_s = [ ra_y[i] for i in sorted_indices]\n",
        "\n",
        "plt.figure(figsize=(16,7))\n",
        "plt.grid()\n",
        "plt.gca().set_axisbelow(True)\n",
        "# num_colors = len(models_dnn)\n",
        "# colors = plt.cm.tab20(np.linspace(0, 1, num_colors))\n",
        "sorted_colors = [colors[i] for i in sorted_indices]\n",
        "bars = plt.bar(x=bar_x_s, height=bar_y_s, color=sorted_colors)\n",
        "for bar, value, roc_auc in zip(bars, bar_y_s, ra_y_s):\n",
        "    plt.text(bar.get_x() + bar.get_width() / 2, bar.get_height(), f\"{value:.4}%\", ha='center', va='bottom', fontsize=8)\n",
        "    if value > low_val + 3.5:\n",
        "      plt.text(bar.get_x() + bar.get_width() / 2 , low_val + 0.5, f\"ROC-AUC: {roc_auc:.4}\", ha='center', va='bottom', fontsize=8, rotation=90)\n",
        "plt.ylim(low_val,95)\n",
        "plt.xticks(rotation=80)\n",
        "plt.title(\"Ordered, validated accuracy of the models\")\n",
        "plt.ylabel(\"Validated accuracy %\")\n",
        "plt.savefig(f'img_va_sorted.png', bbox_inches='tight')\n",
        "plt.show()"
      ],
      "metadata": {
        "colab": {
          "base_uri": "https://localhost:8080/",
          "height": 667
        },
        "id": "zeVzWcqtLdnl",
        "outputId": "d09e58f1-02d4-4b11-b431-f94e58586eba"
      },
      "execution_count": 91,
      "outputs": [
        {
          "output_type": "display_data",
          "data": {
            "text/plain": [
              "<Figure size 1600x700 with 1 Axes>"
            ],
            "image/png": "[encoded data removed]"
          },
          "metadata": {}
        }
      ]
    }
  ]
}